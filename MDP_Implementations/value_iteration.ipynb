{
 "cells": [
  {
   "cell_type": "code",
   "id": "initial_id",
   "metadata": {
    "collapsed": true,
    "ExecuteTime": {
     "end_time": "2025-02-19T03:54:42.056631Z",
     "start_time": "2025-02-19T03:54:41.935765Z"
    }
   },
   "source": "import numpy as np",
   "outputs": [],
   "execution_count": 2
  },
  {
   "metadata": {
    "ExecuteTime": {
     "end_time": "2025-02-19T05:17:36.431401Z",
     "start_time": "2025-02-19T05:17:36.424433Z"
    }
   },
   "cell_type": "code",
   "source": [
    "A = [0, 1]\n",
    "\n",
    "P_wait = np.array([\n",
    "    [0.97, 0.01, 0.005, 0.005, 0.0025, 0.0025, 0.002, 0.002, 0, 0.001],\n",
    "    [0.015, 0.965, 0.005, 0.005, 0.0025, 0.0012, 0.0012, 0.0025, 0.0013, 0.0013],\n",
    "    [0.005, 0.005, 0.96, 0.01, 0.005, 0.005, 0.0025, 0.0025, 0.0025, 0.0025],\n",
    "    [0, 0.005, 0.005, 0.95, 0.01, 0.01, 0.005, 0.005, 0.005, 0.005],\n",
    "    [0, 0, 0.005, 0.005, 0.94, 0.02, 0.01, 0.01, 0.004, 0.006],\n",
    "    [0, 0, 0, 0.005, 0.005, 0.93, 0.02, 0.02, 0.013, 0.007],\n",
    "    [0, 0, 0, 0, 0.005, 0.007, 0.93, 0.03, 0.02, 0.008],\n",
    "    [0, 0, 0, 0, 0, 0.005, 0.001, 0.914, 0.04, 0.04],\n",
    "    [0, 0, 0, 0, 0, 0, 0.01, 0.01, 0.9, 0.08],\n",
    "    [0, 0, 0, 0, 0, 0, 0, 0, 0, 1]\n",
    "])\n",
    "\n",
    "S = list(range(0,11))  # 10 is transplant, 9 is death\n",
    "\n",
    "rT = dict(zip(list(range(0,11)), [100,96,90,84,76,68,56,40,25,0, 0]))\n",
    "\n",
    "rW = dict(zip(list(range(0, 11)), [0.99,0.98,0.97,0.96,0.93,0.9,0.87,0.84,0.8,0, 0]))\n",
    "lam = 0.9998\n",
    "epsilon = 1e-6"
   ],
   "id": "54f899eb21ac2cb3",
   "outputs": [],
   "execution_count": 103
  },
  {
   "metadata": {
    "ExecuteTime": {
     "end_time": "2025-02-19T05:17:36.822835Z",
     "start_time": "2025-02-19T05:17:36.819044Z"
    }
   },
   "cell_type": "code",
   "source": [
    "def P(j, s, a):\n",
    "\n",
    "    if s == 10 and j == 10:  # Transplant Absorbing State\n",
    "        p = 1\n",
    "    elif a == 1 and j == 10:  # Transplant (from non-transplant state)\n",
    "        p = 1\n",
    "    elif a == 0 and j != 10 and s != 10:\n",
    "        p = P_wait[s, j]\n",
    "    else:\n",
    "        p = 0\n",
    "\n",
    "    return p\n",
    "\n",
    "def r(s, a):\n",
    "    if a == 0:\n",
    "        rwd = rW[s]\n",
    "    elif a == 1:\n",
    "        rwd = rT[s]\n",
    "    else:\n",
    "        rwd = 0\n",
    "\n",
    "    return rwd\n",
    "\n",
    "span = lambda v_: max(v_) - min(v_)"
   ],
   "id": "d034ce5e9e3d016b",
   "outputs": [],
   "execution_count": 104
  },
  {
   "metadata": {},
   "cell_type": "code",
   "source": [
    "v_n = np.array([max(r(s, a) for a in A) for s in S])\n",
    "v_n1 = np.empty(len(S))\n",
    "n=1\n",
    "optimal = False\n",
    "while not optimal:\n",
    "\n",
    "    for s in S:\n",
    "        v_n1[s] =  max(r(s, a_) + (lam * sum(P(j, s, a_)* v_n[j] for j in S)) for a_ in A)\n",
    "\n",
    "    print('iteration ', n)\n",
    "\n",
    "    if span(v_n1 - v_n) >= ((1-lam)/lam) * epsilon:\n",
    "        optimal = True\n",
    "\n",
    "Lv = np.array([max(r(s, a_) + (lam * sum(P(j, s, a_)* v_n[j] for j in S)) for a_ in A) for s in S])"
   ],
   "id": "9a50db37320bdb38",
   "outputs": [],
   "execution_count": null
  },
  {
   "metadata": {
    "ExecuteTime": {
     "end_time": "2025-02-19T05:20:12.358482Z",
     "start_time": "2025-02-19T05:20:12.352236Z"
    }
   },
   "cell_type": "code",
   "source": [
    "d_ep = np.empty(len(S))\n",
    "v_ep = np.empty(len(S))\n",
    "\n",
    "for s in S:\n",
    "    d_ep[s] = np.argmax([r(s, a_) + (lam * sum(P(j, s, a_) * v_n1[j] for j in S)) for a_ in A])\n",
    "    v_ep[s] = v_n1[s] + ((lam / (1-lam)) * min(Lv - v_n))"
   ],
   "id": "6126bee960dfad1a",
   "outputs": [],
   "execution_count": 116
  },
  {
   "metadata": {
    "ExecuteTime": {
     "end_time": "2025-02-19T05:20:12.768105Z",
     "start_time": "2025-02-19T05:20:12.760761Z"
    }
   },
   "cell_type": "code",
   "source": [
    "print('v = ', v_ep)\n",
    "print('d = ', d_ep)"
   ],
   "id": "265e5ae539766053",
   "outputs": [
    {
     "name": "stdout",
     "output_type": "stream",
     "text": [
      "v =  [100.3521236   96.44220374  90.1946515   84.          76.\n",
      "  68.          56.          40.          25.           0.\n",
      "   0.        ]\n",
      "d =  [0. 0. 0. 1. 1. 1. 1. 1. 1. 0. 0.]\n"
     ]
    }
   ],
   "execution_count": 117
  },
  {
   "metadata": {},
   "cell_type": "code",
   "source": "",
   "id": "dc889c9da71f2916",
   "outputs": [],
   "execution_count": null
  }
 ],
 "metadata": {
  "kernelspec": {
   "display_name": "Python 3",
   "language": "python",
   "name": "python3"
  },
  "language_info": {
   "codemirror_mode": {
    "name": "ipython",
    "version": 2
   },
   "file_extension": ".py",
   "mimetype": "text/x-python",
   "name": "python",
   "nbconvert_exporter": "python",
   "pygments_lexer": "ipython2",
   "version": "2.7.6"
  }
 },
 "nbformat": 4,
 "nbformat_minor": 5
}

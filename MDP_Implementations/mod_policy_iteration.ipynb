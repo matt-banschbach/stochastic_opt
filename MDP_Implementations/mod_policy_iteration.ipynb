{
 "cells": [
  {
   "cell_type": "code",
   "id": "initial_id",
   "metadata": {
    "collapsed": true,
    "ExecuteTime": {
     "end_time": "2025-02-19T05:24:18.040259Z",
     "start_time": "2025-02-19T05:24:18.035866Z"
    }
   },
   "source": "import numpy as np",
   "outputs": [],
   "execution_count": 97
  },
  {
   "metadata": {
    "ExecuteTime": {
     "end_time": "2025-02-19T05:29:56.299918Z",
     "start_time": "2025-02-19T05:29:56.292924Z"
    }
   },
   "cell_type": "code",
   "source": [
    "A = [0, 1]\n",
    "\n",
    "P_wait = np.array([\n",
    "    [0.97, 0.01, 0.005, 0.005, 0.0025, 0.0025, 0.002, 0.002, 0, 0.001],\n",
    "    [0.015, 0.965, 0.005, 0.005, 0.0025, 0.0012, 0.0012, 0.0025, 0.0013, 0.0013],\n",
    "    [0.005, 0.005, 0.96, 0.01, 0.005, 0.005, 0.0025, 0.0025, 0.0025, 0.0025],\n",
    "    [0, 0.005, 0.005, 0.95, 0.01, 0.01, 0.005, 0.005, 0.005, 0.005],\n",
    "    [0, 0, 0.005, 0.005, 0.94, 0.02, 0.01, 0.01, 0.004, 0.006],\n",
    "    [0, 0, 0, 0.005, 0.005, 0.93, 0.02, 0.02, 0.013, 0.007],\n",
    "    [0, 0, 0, 0, 0.005, 0.007, 0.93, 0.03, 0.02, 0.008],\n",
    "    [0, 0, 0, 0, 0, 0.005, 0.001, 0.914, 0.04, 0.04],\n",
    "    [0, 0, 0, 0, 0, 0, 0.01, 0.01, 0.9, 0.08],\n",
    "    [0, 0, 0, 0, 0, 0, 0, 0, 0, 1]\n",
    "])\n",
    "\n",
    "S = list(range(0,11))  # 10 is transplant, 9 is death\n",
    "\n",
    "rT = dict(zip(list(range(0,11)), [100,96,90,84,76,68,56,40,25,0, 0]))\n",
    "\n",
    "rW = dict(zip(list(range(0, 11)), [0.99,0.98,0.97,0.96,0.93,0.9,0.87,0.84,0.8,0, 0]))\n",
    "lam = 0.9998\n",
    "epsilon = 1e-4\n",
    "m_ = 3"
   ],
   "id": "3b835f20911422d5",
   "outputs": [],
   "execution_count": 110
  },
  {
   "metadata": {
    "ExecuteTime": {
     "end_time": "2025-02-19T05:29:56.624067Z",
     "start_time": "2025-02-19T05:29:56.619674Z"
    }
   },
   "cell_type": "code",
   "source": [
    "def P(j, s, a):\n",
    "\n",
    "    if s == 10 and j == 10:  # Transplant Absorbing State\n",
    "        p = 1\n",
    "    elif a == 1 and j == 10:  # Transplant (from non-transplant state)\n",
    "        p = 1\n",
    "    elif a == 0 and j != 10 and s != 10:\n",
    "        p = P_wait[s, j]\n",
    "    else:\n",
    "        p = 0\n",
    "\n",
    "    return p\n",
    "\n",
    "def r(s, a):\n",
    "    if a == 0:\n",
    "        rwd = rW[s]\n",
    "    elif a == 1:\n",
    "        rwd = rT[s]\n",
    "    else:\n",
    "        rwd = 0\n",
    "\n",
    "    return rwd\n",
    "span = lambda v_: max(v_) - min(v_)"
   ],
   "id": "503ffc5b47f1ea90",
   "outputs": [],
   "execution_count": 111
  },
  {
   "metadata": {
    "ExecuteTime": {
     "end_time": "2025-02-19T05:32:53.536505Z",
     "start_time": "2025-02-19T05:32:53.527886Z"
    }
   },
   "cell_type": "code",
   "source": [
    "# INITIALIZATION\n",
    "\n",
    "v = np.zeros(len(S))\n",
    "v_prime = np.array([max(r(s, a_) + (lam * sum(P(j, s, a_) * v[j] for j in S)) for a_ in A) for s in S])\n",
    "a_prime = np.random.choice(A, size=len(S))\n",
    "while span(v_prime - v) > (lam * epsilon) / (1 - lam):\n",
    "    m = 1\n",
    "    u = v\n",
    "    while m <= m_:\n",
    "\n",
    "        u_prime = np.array([r(s, a_prime[s]) + lam * sum(P(j, s, a_prime[s]) * u[j] for j in S) for s in S])\n",
    "        u = u_prime\n",
    "        m += 1\n",
    "\n",
    "    v = u_prime\n",
    "\n",
    "    for s in S:\n",
    "        v_prime[s] = max(r(s, a_) + (lam * sum(P(j, s, a_) * v[j] for j in S)) for a_ in A)\n",
    "        a_prime[s] = np.argmax([r(s, a_) + (lam * sum(P(j, s, a_)* v[j] for j in S)) for a_ in A])\n",
    "\n",
    "# TERMINATION\n",
    "\n",
    "d_ep = a_prime\n",
    "v_ep = v_prime + ((lam * (1 - lam)) * min(v_prime - v))\n",
    "\n",
    "print('d = ', d_ep)\n",
    "print('v:')\n",
    "for var in range(len(v)):\n",
    "    print(var, v[var])\n"
   ],
   "id": "dfeb18629b8efb1d",
   "outputs": [
    {
     "name": "stdout",
     "output_type": "stream",
     "text": [
      "d =  [0 0 0 1 1 1 1 1 1 0 0]\n",
      "v:\n",
      "0 100.0\n",
      "1 96.0\n",
      "2 90.0\n",
      "3 84.0\n",
      "4 76.0\n",
      "5 68.0\n",
      "6 56.0\n",
      "7 40.0\n",
      "8 25.0\n",
      "9 0.0\n",
      "10 0.0\n"
     ]
    }
   ],
   "execution_count": 144
  },
  {
   "metadata": {},
   "cell_type": "code",
   "outputs": [],
   "execution_count": null,
   "source": "",
   "id": "644dec4f096b198a"
  }
 ],
 "metadata": {
  "kernelspec": {
   "display_name": "Python 3",
   "language": "python",
   "name": "python3"
  },
  "language_info": {
   "codemirror_mode": {
    "name": "ipython",
    "version": 2
   },
   "file_extension": ".py",
   "mimetype": "text/x-python",
   "name": "python",
   "nbconvert_exporter": "python",
   "pygments_lexer": "ipython2",
   "version": "2.7.6"
  }
 },
 "nbformat": 4,
 "nbformat_minor": 5
}

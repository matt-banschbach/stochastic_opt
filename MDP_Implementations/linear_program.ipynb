{
 "cells": [
  {
   "cell_type": "code",
   "id": "initial_id",
   "metadata": {
    "collapsed": true,
    "ExecuteTime": {
     "end_time": "2025-02-19T05:33:32.803985Z",
     "start_time": "2025-02-19T05:33:32.775437Z"
    }
   },
   "source": [
    "import numpy as np\n",
    "import gurobipy as gp\n",
    "from Demos.win32netdemo import verbose_level\n",
    "from gurobipy import GRB"
   ],
   "outputs": [],
   "execution_count": 16
  },
  {
   "metadata": {
    "ExecuteTime": {
     "end_time": "2025-02-19T05:33:33.047139Z",
     "start_time": "2025-02-19T05:33:33.040018Z"
    }
   },
   "cell_type": "code",
   "source": [
    "A = [0, 1]\n",
    "\n",
    "P_wait = np.array([\n",
    "    [0.97, 0.01, 0.005, 0.005, 0.0025, 0.0025, 0.002, 0.002, 0, 0.001],\n",
    "    [0.015, 0.965, 0.005, 0.005, 0.0025, 0.0012, 0.0012, 0.0025, 0.0013, 0.0013],\n",
    "    [0.005, 0.005, 0.96, 0.01, 0.005, 0.005, 0.0025, 0.0025, 0.0025, 0.0025],\n",
    "    [0, 0.005, 0.005, 0.95, 0.01, 0.01, 0.005, 0.005, 0.005, 0.005],\n",
    "    [0, 0, 0.005, 0.005, 0.94, 0.02, 0.01, 0.01, 0.004, 0.006],\n",
    "    [0, 0, 0, 0.005, 0.005, 0.93, 0.02, 0.02, 0.013, 0.007],\n",
    "    [0, 0, 0, 0, 0.005, 0.007, 0.93, 0.03, 0.02, 0.008],\n",
    "    [0, 0, 0, 0, 0, 0.005, 0.001, 0.914, 0.04, 0.04],\n",
    "    [0, 0, 0, 0, 0, 0, 0.01, 0.01, 0.9, 0.08],\n",
    "    [0, 0, 0, 0, 0, 0, 0, 0, 0, 1]\n",
    "])\n",
    "\n",
    "S = list(range(0,11))  # 10 is transplant, 9 is death\n",
    "\n",
    "rT = dict(zip(list(range(0,11)), [100,96,90,84,76,68,56,40,25,0, 0]))\n",
    "\n",
    "rW = dict(zip(list(range(0, 11)), [0.99,0.98,0.97,0.96,0.93,0.9,0.87,0.84,0.8,0, 0]))\n",
    "lam = 0.9998\n",
    "epsilon = 1e-4"
   ],
   "id": "910884c30c46265b",
   "outputs": [],
   "execution_count": 17
  },
  {
   "metadata": {
    "ExecuteTime": {
     "end_time": "2025-02-19T05:33:33.338386Z",
     "start_time": "2025-02-19T05:33:33.334260Z"
    }
   },
   "cell_type": "code",
   "source": [
    "def P(j, s, a):\n",
    "\n",
    "    if s == 10 and j == 10:  # Transplant Absorbing State\n",
    "        p = 1\n",
    "    elif a == 1 and j == 10:  # Transplant (from non-transplant state)\n",
    "        p = 1\n",
    "    elif a == 0 and j != 10 and s != 10:\n",
    "        p = P_wait[s, j]\n",
    "    else:\n",
    "        p = 0\n",
    "\n",
    "    return p\n",
    "\n",
    "def r(s, a):\n",
    "    if a == 0:\n",
    "        rwd = rW[s]\n",
    "    elif a == 1:\n",
    "        rwd = rT[s]\n",
    "    else:\n",
    "        rwd = 0\n",
    "\n",
    "    return rwd"
   ],
   "id": "32b65764617c69e9",
   "outputs": [],
   "execution_count": 18
  },
  {
   "metadata": {
    "ExecuteTime": {
     "end_time": "2025-02-19T05:33:33.775043Z",
     "start_time": "2025-02-19T05:33:33.771164Z"
    }
   },
   "cell_type": "code",
   "source": [
    "m = gp.Model()\n",
    "v = m.addVars(S)\n",
    "m.update()"
   ],
   "id": "dbd4dcf7e0bb9fa4",
   "outputs": [],
   "execution_count": 19
  },
  {
   "metadata": {
    "ExecuteTime": {
     "end_time": "2025-02-19T05:33:34.212028Z",
     "start_time": "2025-02-19T05:33:34.206730Z"
    }
   },
   "cell_type": "code",
   "source": [
    "bellman = m.addConstrs((v[s] - (lam * gp.quicksum(P(j, s, a) * v[j] for j in S)) >= r(s, a) for s in S for a in A), name='bellman')\n",
    "m.update()"
   ],
   "id": "da47fb1dd650553a",
   "outputs": [],
   "execution_count": 20
  },
  {
   "metadata": {
    "ExecuteTime": {
     "end_time": "2025-02-19T05:33:34.658250Z",
     "start_time": "2025-02-19T05:33:34.644384Z"
    }
   },
   "cell_type": "code",
   "source": [
    "m.setObjective(gp.quicksum(v[s] for s in S), GRB.MINIMIZE)\n",
    "m.optimize()"
   ],
   "id": "4a122b188a8131d",
   "outputs": [
    {
     "name": "stdout",
     "output_type": "stream",
     "text": [
      "Gurobi Optimizer version 12.0.1 build v12.0.1rc0 (win64 - Windows 11.0 (26100.2))\n",
      "\n",
      "CPU model: AMD Ryzen 7 5800HS with Radeon Graphics, instruction set [SSE2|AVX|AVX2]\n",
      "Thread count: 8 physical cores, 16 logical processors, using up to 16 threads\n",
      "\n",
      "Optimize a model with 22 rows, 11 columns and 91 nonzeros\n",
      "Model fingerprint: 0x11cceacd\n",
      "Coefficient statistics:\n",
      "  Matrix range     [2e-04, 1e+00]\n",
      "  Objective range  [1e+00, 1e+00]\n",
      "  Bounds range     [0e+00, 0e+00]\n",
      "  RHS range        [8e-01, 1e+02]\n",
      "Presolve removed 16 rows and 4 columns\n",
      "Presolve time: 0.00s\n",
      "Presolved: 6 rows, 7 columns, 32 nonzeros\n",
      "\n",
      "Iteration    Objective       Primal Inf.    Dual Inf.      Time\n",
      "       0   -7.2969728e+31   6.195845e+30   7.296973e+01      0s\n",
      "       2    6.8924892e+02   0.000000e+00   0.000000e+00      0s\n",
      "\n",
      "Solved in 2 iterations and 0.01 seconds (0.00 work units)\n",
      "Optimal objective  6.892489198e+02\n"
     ]
    }
   ],
   "execution_count": 21
  },
  {
   "metadata": {
    "ExecuteTime": {
     "end_time": "2025-02-19T05:33:37.443693Z",
     "start_time": "2025-02-19T05:33:37.436060Z"
    }
   },
   "cell_type": "code",
   "source": [
    "for var in v:\n",
    "    print(var, v[var].X)"
   ],
   "id": "4fabed43e1bb8b87",
   "outputs": [
    {
     "name": "stdout",
     "output_type": "stream",
     "text": [
      "0 120.97365564288195\n",
      "1 118.96697599427944\n",
      "2 100.30828815570685\n",
      "3 84.0\n",
      "4 76.0\n",
      "5 68.0\n",
      "6 56.0\n",
      "7 40.0\n",
      "8 25.0\n",
      "9 0.0\n",
      "10 0.0\n"
     ]
    }
   ],
   "execution_count": 22
  },
  {
   "metadata": {
    "ExecuteTime": {
     "end_time": "2025-02-19T05:33:37.779284Z",
     "start_time": "2025-02-19T05:33:37.775344Z"
    }
   },
   "cell_type": "code",
   "source": [
    "# DUAL PROBLEM\n",
    "\n",
    "dual = gp.Model()\n",
    "x = dual.addVars(S, A, lb=0.0)\n",
    "dual.update()"
   ],
   "id": "f7b85edd4d97760b",
   "outputs": [],
   "execution_count": 23
  },
  {
   "metadata": {
    "ExecuteTime": {
     "end_time": "2025-02-19T05:33:38.376532Z",
     "start_time": "2025-02-19T05:33:38.369362Z"
    }
   },
   "cell_type": "code",
   "source": [
    "dual_cons = dual.addConstrs(gp.quicksum(x[s, a] for a in A) - gp.quicksum(lam * P(s, j, a) * x[j, a] for j in S for a in A) == 1 for s in S)\n",
    "dual.update()"
   ],
   "id": "faa62fd4f04efc73",
   "outputs": [],
   "execution_count": 24
  },
  {
   "metadata": {
    "ExecuteTime": {
     "end_time": "2025-02-19T05:33:40.169451Z",
     "start_time": "2025-02-19T05:33:40.155251Z"
    }
   },
   "cell_type": "code",
   "source": [
    "dual.setObjective(gp.quicksum(r(s, a) * x[s, a] for s in S for a in A), GRB.MAXIMIZE)\n",
    "dual.update()\n",
    "dual.optimize()"
   ],
   "id": "53ed460584b7f569",
   "outputs": [
    {
     "name": "stdout",
     "output_type": "stream",
     "text": [
      "Gurobi Optimizer version 12.0.1 build v12.0.1rc0 (win64 - Windows 11.0 (26100.2))\n",
      "\n",
      "CPU model: AMD Ryzen 7 5800HS with Radeon Graphics, instruction set [SSE2|AVX|AVX2]\n",
      "Thread count: 8 physical cores, 16 logical processors, using up to 16 threads\n",
      "\n",
      "Optimize a model with 11 rows, 22 columns and 91 nonzeros\n",
      "Model fingerprint: 0xdce0deb0\n",
      "Coefficient statistics:\n",
      "  Matrix range     [2e-04, 1e+00]\n",
      "  Objective range  [8e-01, 1e+02]\n",
      "  Bounds range     [0e+00, 0e+00]\n",
      "  RHS range        [1e+00, 1e+00]\n",
      "Presolve removed 2 rows and 7 columns\n",
      "Presolve time: 0.01s\n",
      "Presolved: 9 rows, 15 columns, 65 nonzeros\n",
      "\n",
      "Iteration    Objective       Primal Inf.    Dual Inf.      Time\n",
      "       0    4.3004000e+32   7.719661e+30   4.300400e+02      0s\n",
      "       9    6.8924892e+02   0.000000e+00   0.000000e+00      0s\n",
      "\n",
      "Solved in 9 iterations and 0.01 seconds (0.00 work units)\n",
      "Optimal objective  6.892489198e+02\n"
     ]
    }
   ],
   "execution_count": 25
  },
  {
   "metadata": {
    "ExecuteTime": {
     "end_time": "2025-02-19T05:33:41.321475Z",
     "start_time": "2025-02-19T05:33:41.314219Z"
    }
   },
   "cell_type": "code",
   "source": "x",
   "id": "f325d7068a5868e3",
   "outputs": [
    {
     "data": {
      "text/plain": [
       "{(0, 0): <gurobi.Var C0 (value 65.88882841458137)>,\n",
       " (0, 1): <gurobi.Var C1 (value 0.0)>,\n",
       " (1, 0): <gurobi.Var C2 (value 52.763574250624764)>,\n",
       " (1, 1): <gurobi.Var C3 (value 0.0)>,\n",
       " (2, 0): <gurobi.Var C4 (value 39.638320086668124)>,\n",
       " (2, 1): <gurobi.Var C5 (value 0.0)>,\n",
       " (3, 0): <gurobi.Var C6 (value 0.0)>,\n",
       " (3, 1): <gurobi.Var C7 (value 1.9894472851498732)>,\n",
       " (4, 0): <gurobi.Var C8 (value 0.0)>,\n",
       " (4, 1): <gurobi.Var C9 (value 1.4947236425749366)>,\n",
       " (5, 0): <gurobi.Var C10 (value 0.0)>,\n",
       " (5, 1): <gurobi.Var C11 (value 1.4261447145784296)>,\n",
       " (6, 0): <gurobi.Var C12 (value 0.0)>,\n",
       " (6, 1): <gurobi.Var C13 (value 1.2941309081973535)>,\n",
       " (7, 0): <gurobi.Var C14 (value 0.0)>,\n",
       " (7, 1): <gurobi.Var C15 (value 1.3627098361938605)>,\n",
       " (8, 0): <gurobi.Var C16 (value 0.0)>,\n",
       " (8, 1): <gurobi.Var C17 (value 1.167654909053134)>,\n",
       " (9, 0): <gurobi.Var C18 (value 6167.652798510841)>,\n",
       " (9, 1): <gurobi.Var C19 (value 0.0)>,\n",
       " (10, 0): <gurobi.Var C20 (value 48665.32166744755)>,\n",
       " (10, 1): <gurobi.Var C21 (value 0.0)>}"
      ]
     },
     "execution_count": 26,
     "metadata": {},
     "output_type": "execute_result"
    }
   ],
   "execution_count": 26
  },
  {
   "metadata": {
    "ExecuteTime": {
     "end_time": "2025-02-19T05:44:33.689309Z",
     "start_time": "2025-02-19T05:44:33.682702Z"
    }
   },
   "cell_type": "code",
   "source": [
    "d = np.empty(len(S))\n",
    "\n",
    "for var in x:\n",
    "    if x[var].X > 0:\n",
    "        # print(var)\n",
    "        d[var[0]] = var[1]\n",
    "\n",
    "print('d = ', d)"
   ],
   "id": "bfb839ef7532b9da",
   "outputs": [
    {
     "name": "stdout",
     "output_type": "stream",
     "text": [
      "d =  [0. 0. 0. 1. 1. 1. 1. 1. 1. 0. 0.]\n"
     ]
    }
   ],
   "execution_count": 31
  },
  {
   "metadata": {},
   "cell_type": "code",
   "outputs": [],
   "execution_count": null,
   "source": "",
   "id": "6459a647e2cb775f"
  }
 ],
 "metadata": {
  "kernelspec": {
   "display_name": "Python 3",
   "language": "python",
   "name": "python3"
  },
  "language_info": {
   "codemirror_mode": {
    "name": "ipython",
    "version": 2
   },
   "file_extension": ".py",
   "mimetype": "text/x-python",
   "name": "python",
   "nbconvert_exporter": "python",
   "pygments_lexer": "ipython2",
   "version": "2.7.6"
  }
 },
 "nbformat": 4,
 "nbformat_minor": 5
}

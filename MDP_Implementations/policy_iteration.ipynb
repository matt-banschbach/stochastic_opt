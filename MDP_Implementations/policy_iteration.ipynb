{
 "cells": [
  {
   "cell_type": "code",
   "id": "initial_id",
   "metadata": {
    "collapsed": true,
    "ExecuteTime": {
     "end_time": "2025-02-19T05:21:08.773213Z",
     "start_time": "2025-02-19T05:21:08.767955Z"
    }
   },
   "source": "import numpy as np",
   "outputs": [],
   "execution_count": 54
  },
  {
   "metadata": {
    "ExecuteTime": {
     "end_time": "2025-02-19T05:21:13.185967Z",
     "start_time": "2025-02-19T05:21:13.177958Z"
    }
   },
   "cell_type": "code",
   "source": [
    "A = [0, 1]\n",
    "\n",
    "P_wait = np.array([\n",
    "    [0.97, 0.01, 0.005, 0.005, 0.0025, 0.0025, 0.002, 0.002, 0, 0.001],\n",
    "    [0.015, 0.965, 0.005, 0.005, 0.0025, 0.0012, 0.0012, 0.0025, 0.0013, 0.0013],\n",
    "    [0.005, 0.005, 0.96, 0.01, 0.005, 0.005, 0.0025, 0.0025, 0.0025, 0.0025],\n",
    "    [0, 0.005, 0.005, 0.95, 0.01, 0.01, 0.005, 0.005, 0.005, 0.005],\n",
    "    [0, 0, 0.005, 0.005, 0.94, 0.02, 0.01, 0.01, 0.004, 0.006],\n",
    "    [0, 0, 0, 0.005, 0.005, 0.93, 0.02, 0.02, 0.013, 0.007],\n",
    "    [0, 0, 0, 0, 0.005, 0.007, 0.93, 0.03, 0.02, 0.008],\n",
    "    [0, 0, 0, 0, 0, 0.005, 0.001, 0.914, 0.04, 0.04],\n",
    "    [0, 0, 0, 0, 0, 0, 0.01, 0.01, 0.9, 0.08],\n",
    "    [0, 0, 0, 0, 0, 0, 0, 0, 0, 1]\n",
    "])\n",
    "\n",
    "S = list(range(0,11))  # 10 is transplant, 9 is death\n",
    "\n",
    "rT = dict(zip(list(range(0,11)), [100,96,90,84,76,68,56,40,25,0, 0]))\n",
    "\n",
    "rW = dict(zip(list(range(0, 11)), [0.99,0.98,0.97,0.96,0.93,0.9,0.87,0.84,0.8,0, 0]))\n",
    "lam = 0.9998\n",
    "epsilon = 1e-6"
   ],
   "id": "7bf89215b0ae2169",
   "outputs": [],
   "execution_count": 57
  },
  {
   "metadata": {
    "ExecuteTime": {
     "end_time": "2025-02-19T05:21:13.668561Z",
     "start_time": "2025-02-19T05:21:13.663373Z"
    }
   },
   "cell_type": "code",
   "source": [
    "def P(j, s, a):\n",
    "\n",
    "    if s == 10 and j == 10:  # Transplant Absorbing State\n",
    "        p = 1\n",
    "    elif a == 1 and j == 10:  # Transplant (from non-transplant state)\n",
    "        p = 1\n",
    "    elif a == 0 and j != 10 and s != 10:\n",
    "        p = P_wait[s, j]\n",
    "    else:\n",
    "        p = 0\n",
    "\n",
    "    return p\n",
    "\n",
    "def r(s, a):\n",
    "    if a == 0:\n",
    "        rwd = rW[s]\n",
    "    elif a == 1:\n",
    "        rwd = rT[s]\n",
    "    else:\n",
    "        rwd = 0\n",
    "\n",
    "    return rwd"
   ],
   "id": "d33725997d943667",
   "outputs": [],
   "execution_count": 58
  },
  {
   "metadata": {
    "ExecuteTime": {
     "end_time": "2025-02-19T05:23:54.532397Z",
     "start_time": "2025-02-19T05:23:54.525315Z"
    }
   },
   "cell_type": "code",
   "source": [
    "a_prime = np.random.choice(A, size=len(S))\n",
    "optimal = False\n",
    "n=1\n",
    "while not optimal:\n",
    "    print('iteration', n)\n",
    "    n+=1\n",
    "    r_vec = np.array([r(s, a_prime[s]) for s in S])\n",
    "\n",
    "    P_mat = np.empty((len(S), len(S)))\n",
    "    for s in S:\n",
    "        for j in S:\n",
    "            P_mat[s, j] = P(j, s, a_prime[s])\n",
    "\n",
    "    I = np.identity(len(S))\n",
    "\n",
    "    v = np.linalg.solve(I - (lam*P_mat), r_vec)\n",
    "\n",
    "    a_prime2 = np.empty(len(S))\n",
    "    for s in S:\n",
    "        a_prime2[s] = np.argmax([r(s, a_) + (lam * sum(P(j, s, a_) * v[j] for j in S)) for a_ in A])\n",
    "\n",
    "    if (a_prime == a_prime2).all():\n",
    "        optimal = True\n",
    "    else:\n",
    "        a_prime = a_prime2\n"
   ],
   "id": "c76262a7b13be295",
   "outputs": [
    {
     "name": "stdout",
     "output_type": "stream",
     "text": [
      "iteration 1\n",
      "iteration 2\n"
     ]
    }
   ],
   "execution_count": 65
  },
  {
   "metadata": {
    "ExecuteTime": {
     "end_time": "2025-02-19T05:23:59.918192Z",
     "start_time": "2025-02-19T05:23:59.913380Z"
    }
   },
   "cell_type": "code",
   "source": [
    "print(\"a' = \", a_prime)\n",
    "\n",
    "for var in range(len(v)):\n",
    "    print(var, v[var])"
   ],
   "id": "ae3d80771a524fdb",
   "outputs": [
    {
     "name": "stdout",
     "output_type": "stream",
     "text": [
      "a' =  [0. 0. 0. 1. 1. 1. 1. 1. 1. 0. 0.]\n",
      "0 120.97365564288194\n",
      "1 118.96697599427941\n",
      "2 100.30828815570683\n",
      "3 84.0\n",
      "4 76.0\n",
      "5 68.0\n",
      "6 56.0\n",
      "7 40.0\n",
      "8 25.0\n",
      "9 0.0\n",
      "10 0.0\n"
     ]
    }
   ],
   "execution_count": 66
  },
  {
   "metadata": {},
   "cell_type": "code",
   "outputs": [],
   "execution_count": null,
   "source": "",
   "id": "9959f04866ee25e9"
  }
 ],
 "metadata": {
  "kernelspec": {
   "display_name": "Python 3",
   "language": "python",
   "name": "python3"
  },
  "language_info": {
   "codemirror_mode": {
    "name": "ipython",
    "version": 2
   },
   "file_extension": ".py",
   "mimetype": "text/x-python",
   "name": "python",
   "nbconvert_exporter": "python",
   "pygments_lexer": "ipython2",
   "version": "2.7.6"
  }
 },
 "nbformat": 4,
 "nbformat_minor": 5
}
